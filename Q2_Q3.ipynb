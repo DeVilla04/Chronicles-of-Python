{
  "nbformat": 4,
  "nbformat_minor": 0,
  "metadata": {
    "colab": {
      "provenance": [],
      "authorship_tag": "ABX9TyPE8oVMyBHewzhMSXMq2NGd",
      "include_colab_link": true
    },
    "kernelspec": {
      "name": "python3",
      "display_name": "Python 3"
    },
    "language_info": {
      "name": "python"
    }
  },
  "cells": [
    {
      "cell_type": "markdown",
      "metadata": {
        "id": "view-in-github",
        "colab_type": "text"
      },
      "source": [
        "<a href=\"https://colab.research.google.com/github/tirth5828/Chronicles-of-Python/blob/main/Q2_Q3.ipynb\" target=\"_parent\"><img src=\"https://colab.research.google.com/assets/colab-badge.svg\" alt=\"Open In Colab\"/></a>"
      ]
    },
    {
      "cell_type": "code",
      "source": [
        "import seaborn as sns"
      ],
      "metadata": {
        "id": "edbMZLtyNS-w"
      },
      "execution_count": 1,
      "outputs": []
    },
    {
      "cell_type": "code",
      "execution_count": 2,
      "metadata": {
        "colab": {
          "base_uri": "https://localhost:8080/"
        },
        "id": "fhKQJeYugssN",
        "outputId": "92b91149-bcfd-47c6-b447-def43063e480"
      },
      "outputs": [
        {
          "output_type": "stream",
          "name": "stdout",
          "text": [
            "[0. 0. 0. 0. 0. 0. 0. 0. 0. 0. 0. 0. 0. 0. 0. 0. 0. 0. 0. 0. 0. 0. 0. 0.\n",
            " 0. 0. 0. 0. 0. 0. 0. 0. 0. 0. 0. 0. 0. 0. 0. 0. 0. 0. 0. 0. 0. 0. 0. 0.\n",
            " 0. 0. 0. 0. 0. 0. 0. 0. 0. 0. 0. 0. 0. 0. 0. 0. 0. 0. 0. 0. 0. 0. 0. 0.\n",
            " 0. 0. 0. 0. 0. 0. 0. 0. 0. 0. 0. 0. 0. 0. 0. 0. 0. 0. 0. 0. 0. 0. 0. 0.\n",
            " 0. 0. 0. 0. 0. 0. 0. 0. 0. 0. 0. 0. 0. 0. 0. 0. 0. 0. 0. 0. 0. 0. 0. 0.\n",
            " 0. 0. 0. 0. 0. 0. 0. 0. 0. 0. 0. 0. 0. 0. 0. 0. 0. 0. 0. 0. 0. 0. 0. 0.\n",
            " 0. 0. 0. 0. 0. 0. 0. 0. 0. 0. 0. 0. 0. 0. 0. 0. 0. 0. 0. 0. 0. 0. 0. 0.\n",
            " 0. 0. 0. 0. 0. 0. 0. 0. 0. 0. 0. 0. 0. 0. 0. 0. 0. 0. 0. 0. 0. 0. 0. 0.\n",
            " 0. 0. 0. 0. 0. 0. 0. 0. 0. 0. 0. 0. 0. 0. 0. 0. 0. 0. 0. 0. 0. 0. 0. 0.\n",
            " 0. 0. 0. 0. 0. 0. 0. 0. 0. 0. 0. 0. 0. 0. 0. 0. 0. 0. 0. 0. 0. 0. 0. 0.\n",
            " 0. 0. 0. 0. 0. 0. 0. 0. 0. 0. 0. 0. 0. 0. 0. 0. 0. 0. 0. 0. 0. 0. 0. 0.\n",
            " 0. 0. 0. 0. 0. 0. 0. 0. 0. 0. 0. 0. 0. 0. 0. 0. 0. 0. 0. 0. 0. 0. 0. 0.\n",
            " 0. 0. 0. 0. 0. 0. 0. 0. 0. 0. 0. 0. 0. 0. 0. 0. 0. 0. 0. 0. 0. 0. 0. 0.\n",
            " 0. 0. 0. 0. 0. 0. 0. 0. 0. 0. 0. 0. 0. 0. 0. 0. 0. 0. 0. 0. 0. 0. 0. 0.\n",
            " 0. 0. 0. 0. 0. 0. 0. 0. 0. 0. 0. 0. 0. 0. 0. 0. 0. 0. 0. 0. 0. 0. 0. 0.\n",
            " 0. 0. 0. 0. 0. 0. 0. 0. 0. 0. 0. 0. 0. 0. 0. 0. 0. 0. 0. 0. 0. 0. 0. 0.\n",
            " 0. 0. 0. 0. 0. 0. 0. 0. 0. 0. 0. 0. 0. 0. 0. 0. 0. 0. 0. 0. 0. 0. 0. 0.\n",
            " 0. 0. 0. 0. 0. 0. 0. 0. 0. 0. 0. 0. 0. 0. 0. 0. 0. 0. 0. 0. 0. 0. 0. 0.\n",
            " 0. 0. 0. 0. 0. 0. 0. 0. 0.]\n"
          ]
        }
      ],
      "source": [
        "import numpy as np\n",
        "\n",
        "# Define the MDP\n",
        "S = 441  # number of states\n",
        "A = 11   # number of actions\n",
        "gamma = 0.9  # discount factor\n",
        "P = np.zeros((S, A, S))  # transition probabilities\n",
        "R = np.zeros((S, A))     # reward function\n",
        "\n",
        "# Initialize the value function\n",
        "V = np.zeros(S)\n",
        "\n",
        "# Value iteration algorithm\n",
        "tolerance = 1e-6\n",
        "delta = np.inf\n",
        "while delta > tolerance:\n",
        "    Q = np.zeros((S, A))\n",
        "    for a in range(A):\n",
        "        # Calculate the Q values for each state and action\n",
        "        for s in range(S):\n",
        "            for s_prime in range(S):\n",
        "                Q[s, a] += P[s, a, s_prime] * (R[s, a] + gamma * V[s_prime])\n",
        "        # Select the action with the maximum Q value for each state\n",
        "        V_new = np.max(Q, axis=1)\n",
        "    delta = np.max(np.abs(V_new - V))\n",
        "    V = V_new\n",
        "\n",
        "# Output the optimal value function\n",
        "print(V)"
      ]
    },
    {
      "cell_type": "markdown",
      "source": [
        "In this code, we first define the problem parameters, including the maximum number of bikes at each location, the maximum number of bikes to move between locations, the reward for renting out a bike, the cost of moving a bike between locations, and the discount factor.\n",
        "\n",
        "We then initialize the value function to zero and run the value iteration algorithm until convergence, which is determined by a specified tolerance threshold.\n",
        "\n",
        "For each (i,j) state and all possible actions, the code calculates the corresponding Q value using the transition probabilities, reward function, and discount factor. It then selects the action with the maximum Q value for each state and updates the value function accordingly. This process continues until the value function converges to its optimal value.\n",
        "\n",
        "Finally, the optimal value function is outputted. Note that this code assumes that the Poisson distribution and probability mass function have already been defined and calculated outside of the loop."
      ],
      "metadata": {
        "id": "Bm9fDTkEM2tZ"
      }
    },
    {
      "cell_type": "code",
      "source": [
        "import numpy as np\n",
        "\n",
        "# Define the MDP\n",
        "MAX_BIKES = 20  # maximum number of bikes at each location\n",
        "MAX_MOVE = 5  # maximum number of bikes to move between locations\n",
        "RENT_REWARD = 10  # reward for renting out a bike\n",
        "MOVE_COST = 2  # cost of moving a bike between locations\n",
        "DISCOUNT_RATE = 0.9  # discount factor\n",
        "\n",
        "# Initialize the value function\n",
        "V = np.zeros((MAX_BIKES+1, MAX_BIKES+1))\n",
        "\n",
        "# Value iteration algorithm\n",
        "tolerance = 1e-6\n",
        "delta = np.inf\n",
        "while delta > tolerance:\n",
        "    V_new = np.copy(V)\n",
        "    for i in range(MAX_BIKES+1):\n",
        "        for j in range(MAX_BIKES+1):\n",
        "            # Calculate the Q value for each (i,j) state and all actions\n",
        "            Q = []\n",
        "            for action in range(-MAX_MOVE, MAX_MOVE+1):\n",
        "                # Calculate the reward for this action\n",
        "                reward = 0\n",
        "                for rent_i in range(0, i+1):\n",
        "                    for rent_j in range(0, j+1):\n",
        "                        prob_rent = (3**rent_i * np.exp(-3)) / np.math.factorial(rent_i)\n",
        "                        prob_rent *= (4**rent_j * np.exp(-4)) / np.math.factorial(rent_j)\n",
        "                        rented_i = min(i - rent_i + action, MAX_BIKES)\n",
        "                        rented_j = min(j - rent_j - action, MAX_BIKES)\n",
        "                        reward += prob_rent * (RENT_REWARD * (rented_i + rented_j) - MOVE_COST * abs(action))\n",
        "                # Calculate the Q value for this action\n",
        "                Q.append(reward + DISCOUNT_RATE * V[rented_i, rented_j])\n",
        "            # Update the value function with the maximum Q value\n",
        "            V_new[i, j] = np.max(Q)\n",
        "    delta = np.max(np.abs(V_new - V))\n",
        "    V = np.copy(V_new)\n",
        "\n",
        "# Output the optimal value function\n",
        "print(V)\n",
        "sns.heatmap(V)"
      ],
      "metadata": {
        "colab": {
          "base_uri": "https://localhost:8080/",
          "height": 1000
        },
        "id": "dMzbzGNLg7Ro",
        "outputId": "d14dec14-63f6-471c-d948-6f3a233cf906"
      },
      "execution_count": 3,
      "outputs": [
        {
          "output_type": "stream",
          "name": "stdout",
          "text": [
            "[[1099.02795487 1099.00059841 1098.97324195 1098.9945192  1099.11306385\n",
            "  1099.3483294  1099.68734685 1100.1004728  1100.55806386 1101.03871089\n",
            "  1101.5298978  1102.02539648 1102.52249211 1103.02012824 1103.51793285\n",
            "  1104.01578612 1104.51365249 1105.01152217 1105.50939264 1106.00726327\n",
            "  1106.50513395]\n",
            " [1099.00971723 1098.93676667 1098.9002914  1099.08266779 1099.65411382\n",
            "  1100.67298994 1102.08093569 1103.76308291 1105.60826883 1107.53744438\n",
            "  1109.50482699 1111.48777987 1113.47648177 1115.46712458 1117.45837107\n",
            "  1119.44979165 1121.44125903 1123.43273818 1125.42422013 1127.4157027\n",
            "  1129.4071854 ]\n",
            " [1099.00515782 1098.95500431 1099.0872272  1099.75442084 1101.24838746\n",
            "  1103.63721425 1106.77824234 1110.43802994 1114.40166241 1118.52009931\n",
            "  1122.70836289 1126.92489249 1131.15180228 1135.38220079 1139.61368031\n",
            "  1143.84547057 1148.07734412 1152.3092386  1156.54113802 1160.77303854\n",
            "  1165.00493929]\n",
            " [1099.0416331  1099.17841539 1099.80761395 1101.39732818 1104.25151873\n",
            "  1108.36045887 1113.46801108 1119.23883438 1125.38761105 1131.72495269\n",
            "  1138.1459546  1144.6003727  1151.06692763 1157.53752407 1164.00936297\n",
            "  1170.4815566  1176.95384476 1183.42615653 1189.89847386 1196.37079243\n",
            "  1202.84311125]\n",
            " [1099.12940174 1099.64803461 1101.13326236 1104.05926362 1108.57801871\n",
            "  1114.49256112 1121.4186846  1128.96917222 1136.8550008  1144.90016267\n",
            "  1153.01317499 1161.15235735 1169.30076209 1177.45215805 1185.60445251\n",
            "  1193.75699827 1201.90960978 1210.06223745 1218.21486886 1226.36750109\n",
            "  1234.5201335 ]\n",
            " [1099.2602568  1100.32077553 1102.94517182 1107.50701334 1113.85857519\n",
            "  1121.52373341 1129.98583593 1138.85831429 1147.91347011 1157.03981127\n",
            "  1166.1906247  1175.34888191 1184.50913532 1193.66985368 1202.83066224\n",
            "  1211.99148349 1221.15230506 1230.31312605 1239.47394675 1248.63476736\n",
            "  1257.79558795]\n",
            " [1099.41881028 1101.12277572 1105.06176385 1111.43486891 1119.69617757\n",
            "  1129.03131842 1138.79119363 1148.6274006  1158.41858665 1168.1527915\n",
            "  1177.8494151  1187.52699507 1197.19643457 1206.86281776 1216.52817013\n",
            "  1226.19320558 1235.8581513  1245.52307344 1255.18798979 1264.8529048\n",
            "  1274.51781952]\n",
            " [1099.59187245 1101.99204348 1107.33531356 1115.60585502 1125.80680717\n",
            "  1136.75459934 1147.66862583 1158.25955247 1168.53702662 1178.60767629\n",
            "  1188.56859126 1198.47978274 1208.37112641 1218.25535587 1228.13726495\n",
            "  1238.01847851 1247.89949902 1257.78046958 1267.66142805 1277.54238375\n",
            "  1287.42333887]\n",
            " [1099.77136461 1102.89098812 1109.67761469 1119.88202915 1132.03268197\n",
            "  1144.56308587 1156.56183073 1167.8082982  1178.45439086 1188.73398976\n",
            "  1198.82712697 1208.83796385 1218.81653527 1228.78369208 1238.74716277\n",
            "  1248.70953722 1258.67160929 1268.63360355 1278.59557904 1288.55755027\n",
            "  1298.51952058]\n",
            " [1099.95332984 1103.8013089  1112.0461304  1124.19793732 1138.30125849\n",
            "  1152.40141413 1165.45654146 1177.31855664 1188.28603918 1198.72351763\n",
            "  1208.89602084 1218.95290628 1228.96483142 1238.96094692 1248.95198089\n",
            "  1258.94150926 1268.93062359 1278.91963165 1288.90861412 1298.8975908\n",
            "  1308.88656623]\n",
            " [1100.13613592 1104.71548767 1114.4234997  1128.52716711 1144.58393153\n",
            "  1160.24912689 1174.35057842 1186.81406331 1198.08636552 1208.66383126\n",
            "  1218.89719364 1228.98136614 1239.00778824 1249.01397314 1259.01367089\n",
            "  1269.01145071 1279.00870404 1289.00582243 1299.00290838 1308.99998698\n",
            "  1318.997064  ]\n",
            " [1100.31919829 1105.63084002 1116.80355342 1132.86041226 1150.8707998\n",
            "  1168.09951686 1183.24412466 1196.30467253 1207.87662027 1218.58849231\n",
            "  1228.87694383 1238.98255505 1249.01759646 1259.02796313 1269.0304339\n",
            "  1279.03057349 1289.03007389 1299.02941062 1309.02870804 1319.02799655\n",
            "  1329.02728316]\n",
            " [1100.50233149 1106.54651612 1119.18434568 1137.19475681 1157.15880455\n",
            "  1175.95060558 1192.13747148 1205.79383883 1217.66397481 1228.50868259\n",
            "  1238.85060006 1248.97600502 1259.01801261 1269.03090514 1279.03449213\n",
            "  1289.03533446 1299.03542483 1309.03532279 1319.03517454 1329.03501585\n",
            "  1339.03485492]\n",
            " [1100.68548259 1107.46227394 1121.56532394 1141.52937712 1163.44709181\n",
            "  1183.80186235 1201.03075457 1215.2826217  1227.45057185 1238.42771247\n",
            "  1248.82267961 1258.9674565  1269.01600638 1279.03100017 1289.03527858\n",
            "  1299.03639876 1309.0366542  1319.03668847 1329.03666966 1339.03663885\n",
            "  1349.03660548]\n",
            " [1100.86863785 1108.37805077 1123.94634539 1145.86406124 1169.73544394\n",
            "  1191.65315659 1209.9240202  1224.77131161 1237.23698766 1248.34646612\n",
            "  1258.79438479 1268.95843417 1279.01342642 1289.0304214  1299.03529108\n",
            "  1309.03658897 1319.03690932 1329.03697975 1339.03699023 1349.03698714\n",
            "  1359.03698117]\n",
            " [1101.05179402 1109.2938317  1126.32737615 1150.19875908 1176.02380991\n",
            "  1199.50445861 1218.81728159 1234.25998076 1247.02336345 1258.26515901\n",
            "  1268.7660078  1278.94930797 1289.0107208  1299.02969512 1309.03513423\n",
            "  1319.03658797 1329.03695138 1339.03703612 1349.03705403 1359.03705682\n",
            "  1369.03705639]\n",
            " [1101.22583155 1110.16401935 1128.58986412 1154.31764759 1181.99909916\n",
            "  1206.96486874 1227.26777269 1243.27623285 1256.32249656 1267.69001759\n",
            "  1278.24115718 1288.44274557 1298.51025515 1308.5311061  1318.53708213\n",
            "  1328.5386798  1338.53907996 1348.53917413 1358.53919493 1368.53919914\n",
            "  1378.53919981]\n",
            " [1101.37251265 1110.89742487 1130.49671848 1157.78910042 1187.0351505\n",
            "  1213.25259895 1234.38995553 1250.87524585 1264.15992473 1275.63340816\n",
            "  1286.22693282 1296.44393408 1306.5165814  1316.53901332 1326.54544118\n",
            "  1336.54715947 1346.54758992 1356.54769136 1366.54771391 1376.54771864\n",
            "  1386.54771956]\n",
            " [1101.47815907 1111.42565698 1131.87012195 1160.28939905 1190.6623443\n",
            "  1217.78130889 1239.51967624 1256.34840131 1269.80479757 1281.35459985\n",
            "  1291.97865207 1302.20675428 1312.28310194 1322.30667245 1332.31342564\n",
            "  1342.31523071 1352.31568287 1362.31578945 1372.31581316 1382.31581815\n",
            "  1392.31581915]\n",
            " [1101.5427708  1111.74871564 1132.71007449 1161.81854341 1192.88068048\n",
            "  1220.55099852 1242.65693485 1259.69569933 1273.4001357  1285.17118011\n",
            "  1295.88372918 1306.14401206 1316.23108662 1326.25795771 1336.26565393\n",
            "  1346.26771048 1356.08506913 1365.84346973 1375.84349415 1385.84349929\n",
            "  1395.84350032]\n",
            " [1101.57660652 1111.91789423 1133.14993881 1162.61932204 1194.69696322\n",
            "  1225.99228487 1250.51489027 1268.9346085  1283.18650136 1295.08985768\n",
            "  1305.85533152 1316.13485978 1326.22834946 1336.25719443 1346.26545462\n",
            "  1356.26766156 1366.08505781 1375.16940608 1382.788402   1388.4537069\n",
            "  1397.86243945]]\n"
          ]
        },
        {
          "output_type": "execute_result",
          "data": {
            "text/plain": [
              "<Axes: >"
            ]
          },
          "metadata": {},
          "execution_count": 3
        },
        {
          "output_type": "display_data",
          "data": {
            "text/plain": [
              "<Figure size 640x480 with 2 Axes>"
            ],
            "image/png": "[encoded data removed]"
          },
          "metadata": {}
        }
      ]
    },
    {
      "cell_type": "markdown",
      "source": [
        "In this code, we first define the problem parameters, including the maximum number of bikes at each location, the maximum number of bikes to move between locations, the reward for renting out a bike, the cost of moving a bike between locations, the additional parking cost for parking more than 10 bikes, and the discount factor.\n",
        "\n",
        "We then initialize the value function to zero and run the value iteration algorithm until convergence, which is determined by a specified tolerance threshold.\n",
        "\n",
        "For each (i,j) state and all possible actions, the code calculates the corresponding Q value using the modified reward function that includes the additional parking cost and the employee's free bike movement. It then selects the action with"
      ],
      "metadata": {
        "id": "JLP-V8J5NLiJ"
      }
    },
    {
      "cell_type": "code",
      "source": [
        "import numpy as np\n",
        "\n",
        "# Define the MDP\n",
        "MAX_BIKES = 10  # maximum number of bikes at each location\n",
        "MAX_MOVE = 5  # maximum number of bikes to move between locations\n",
        "RENT_REWARD = 10  # reward for renting out a bike\n",
        "MOVE_COST = 2  # cost of moving a bike between locations\n",
        "PARK_COST = 4  # additional cost for parking more than 10 bikes\n",
        "DISCOUNT_RATE = 0.9  # discount factor\n",
        "\n",
        "# Initialize the value function\n",
        "V = np.zeros((MAX_BIKES+1, MAX_BIKES+1))\n",
        "\n",
        "# Value iteration algorithm\n",
        "tolerance = 1e-6\n",
        "delta = np.inf\n",
        "while delta > tolerance:\n",
        "    V_new = np.copy(V)\n",
        "    for i in range(MAX_BIKES+1):\n",
        "        for j in range(MAX_BIKES+1):\n",
        "            # Calculate the Q value for each (i,j) state and all actions\n",
        "            Q = []\n",
        "            for action in range(-MAX_MOVE, MAX_MOVE+1):\n",
        "                # Calculate the reward for this action\n",
        "                reward = 0\n",
        "                for rent_i in range(0, i+1):\n",
        "                    for rent_j in range(0, j+1):\n",
        "                        prob_rent = (3**rent_i * np.exp(-3)) / np.math.factorial(rent_i)\n",
        "                        prob_rent *= (4**rent_j * np.exp(-4)) / np.math.factorial(rent_j)\n",
        "                        rented_i = min(i - rent_i + action, MAX_BIKES)\n",
        "                        rented_j = min(j - rent_j - action, MAX_BIKES)\n",
        "                        # Calculate the total number of bikes at each location after moving bikes\n",
        "                        parked_i = max(rented_i - MAX_BIKES // 2, 0)\n",
        "                        parked_j = max(rented_j - MAX_BIKES // 2, 0)\n",
        "                        # Calculate the parking cost if applicable\n",
        "                        if parked_i > MAX_BIKES // 2:\n",
        "                            reward -= PARK_COST\n",
        "                        if parked_j > MAX_BIKES // 2:\n",
        "                            reward -= PARK_COST\n",
        "                        # Calculate the moving cost for additional bikes\n",
        "                        if action > 0:\n",
        "                            reward -= MOVE_COST * (action - 1)\n",
        "                        else:\n",
        "                            reward -= MOVE_COST * abs(action)\n",
        "                        # Calculate the reward for rented bikes\n",
        "                        reward += RENT_REWARD * (rented_i + rented_j)\n",
        "                # Calculate the Q value for this action\n",
        "                Q.append(reward + DISCOUNT_RATE * V[rented_i, rented_j])\n",
        "            # Update the value function with the maximum Q value\n",
        "            V_new[i, j] = np.max(Q)\n",
        "    delta = np.max(np.abs(V_new - V))\n",
        "    V = np.copy(V_new)\n",
        "\n",
        "# Output the optimal value function\n",
        "print(V)\n",
        "sns.heatmap(V)"
      ],
      "metadata": {
        "colab": {
          "base_uri": "https://localhost:8080/",
          "height": 1000
        },
        "id": "TtAdtDT3NKfx",
        "outputId": "1651bd96-8f44-4336-a34a-5f5df93b720f"
      },
      "execution_count": 4,
      "outputs": [
        {
          "output_type": "stream",
          "name": "stdout",
          "text": [
            "[[17757.99999104 17759.99999104 17771.99999104 17793.99999104\n",
            "  17825.99999104 17867.99999104 17919.99999104 17981.99999104\n",
            "  18053.99999104 18135.99999104 18227.99999104]\n",
            " [17759.99999104 17773.99999104 17807.99999104 17861.99999104\n",
            "  17935.99999104 18029.99999104 18143.99999104 18277.99999104\n",
            "  18431.99999104 18605.99999104 18799.99999104]\n",
            " [17771.99999104 17807.99999104 17873.99999104 17969.99999104\n",
            "  18095.99999104 18251.99999104 18437.99999104 18653.99999104\n",
            "  18899.99999104 19175.99999104 19481.99999104]\n",
            " [17793.99999104 17861.99999104 17969.99999104 18117.99999104\n",
            "  18305.99999104 18533.99999104 18801.99999104 19109.99999104\n",
            "  19457.99999104 19845.99999104 20277.39999104]\n",
            " [17825.99999104 17935.99999104 18095.99999104 18305.99999104\n",
            "  18565.99999104 18875.99999104 19235.99999104 19645.99999104\n",
            "  20111.39999104 20631.39999104 21201.39999104]\n",
            " [17867.99999104 18029.99999104 18251.99999104 18533.99999104\n",
            "  18875.99999104 19277.99999104 19739.99999104 20273.39999104\n",
            "  20867.39999104 21521.39999104 22235.39999104]\n",
            " [17909.99999104 18123.99999104 18407.99999104 18773.39999104\n",
            "  19221.39999104 19739.39999104 20327.39999104 20985.39999104\n",
            "  21713.39999104 22511.39999104 23379.39999104]\n",
            " [17965.45999104 18245.45999104 18605.45999104 19049.39999104\n",
            "  19591.39999104 20213.39999104 20928.19999104 21736.19999104\n",
            "  22624.19999104 23592.19999104 24640.19999104]\n",
            " [18035.45999104 18395.45999104 18845.45999104 19385.45999104\n",
            "  20015.45999104 20746.19999104 21600.19999104 22544.19999104\n",
            "  23578.19999104 24728.39999104 25970.39999104]\n",
            " [18115.45999104 18565.45999104 19115.45999104 19765.45999104\n",
            "  20515.45999104 21365.45999104 22322.25999104 23418.39999104\n",
            "  24638.39999104 25958.39999104 27378.39999104]\n",
            " [18205.45999104 18755.45999104 19415.45999104 20185.45999104\n",
            "  21065.45999104 22055.45999104 23176.25999104 24398.91399104\n",
            "  25739.99999104 27269.99999104 28909.99999104]]\n"
          ]
        },
        {
          "output_type": "execute_result",
          "data": {
            "text/plain": [
              "<Axes: >"
            ]
          },
          "metadata": {},
          "execution_count": 4
        },
        {
          "output_type": "display_data",
          "data": {
            "text/plain": [
              "<Figure size 640x480 with 2 Axes>"
            ],
            "image/png": "[encoded data removed]"
          },
          "metadata": {}
        }
      ]
    }
  ]
}